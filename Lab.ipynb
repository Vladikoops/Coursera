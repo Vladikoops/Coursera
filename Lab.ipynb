{
  "metadata": {
    "language_info": {
      "codemirror_mode": {
        "name": "python",
        "version": 3
      },
      "file_extension": ".py",
      "mimetype": "text/x-python",
      "name": "python",
      "nbconvert_exporter": "python",
      "pygments_lexer": "ipython3",
      "version": "3.8"
    },
    "kernelspec": {
      "name": "python",
      "display_name": "Python (Pyodide)",
      "language": "python"
    }
  },
  "nbformat_minor": 4,
  "nbformat": 4,
  "cells": [
    {
      "cell_type": "markdown",
      "source": "exercise Jupiter",
      "metadata": {}
    },
    {
      "cell_type": "markdown",
      "source": "Introduction",
      "metadata": {}
    },
    {
      "cell_type": "markdown",
      "source": "The most popular: Python ,R ,SQL \nLess popular: Scala ,Java ,C++ ,Julia ,JS ,PHP ,Ruby , Visual Basic",
      "metadata": {
        "tags": []
      }
    },
    {
      "cell_type": "markdown",
      "source": "Python: Pandas ,NumPy ,SciPy ,MatPlotLib\nR: ggplot ,DAX",
      "metadata": {}
    },
    {
      "cell_type": "markdown",
      "source": "Jupyter , RStudio, MySQL",
      "metadata": {}
    },
    {
      "cell_type": "markdown",
      "source": "20+5",
      "metadata": {}
    },
    {
      "cell_type": "code",
      "source": "20*5\n14+88",
      "metadata": {},
      "execution_count": null,
      "outputs": []
    },
    {
      "cell_type": "code",
      "source": "minutes = 180\nhours= minutes/60",
      "metadata": {},
      "execution_count": null,
      "outputs": []
    },
    {
      "cell_type": "markdown",
      "source": "Kovganov Vladislav",
      "metadata": {}
    }
  ]
}